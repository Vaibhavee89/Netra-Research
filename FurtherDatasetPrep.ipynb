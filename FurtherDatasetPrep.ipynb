{
  "nbformat": 4,
  "nbformat_minor": 0,
  "metadata": {
    "colab": {
      "provenance": []
    },
    "kernelspec": {
      "name": "python3",
      "display_name": "Python 3"
    },
    "language_info": {
      "name": "python"
    }
  },
  "cells": [
    {
      "cell_type": "code",
      "execution_count": 1,
      "metadata": {
        "id": "JvPlbkjs7VYm"
      },
      "outputs": [],
      "source": [
        "import pandas as pd"
      ]
    },
    {
      "cell_type": "code",
      "source": [
        "df = pd.read_csv(\"cleaned_dataset.csv\")"
      ],
      "metadata": {
        "id": "yNe-4kBC75iS"
      },
      "execution_count": 2,
      "outputs": []
    },
    {
      "cell_type": "code",
      "source": [
        "print(df.head())"
      ],
      "metadata": {
        "colab": {
          "base_uri": "https://localhost:8080/"
        },
        "id": "qR7ylJ_v8GQ0",
        "outputId": "38338ba2-cbd5-46bb-ed92-576a86c2aab0"
      },
      "execution_count": 3,
      "outputs": [
        {
          "output_type": "stream",
          "name": "stdout",
          "text": [
            "                                category                       sub_category  \\\n",
            "0  Online and Social Media Related Crime  Cyber Bullying  Stalking  Sexting   \n",
            "1                 Online Financial Fraud                  Fraud CallVishing   \n",
            "2               Online Gambling  Betting           Online Gambling  Betting   \n",
            "3  Online and Social Media Related Crime                   Online Job Fraud   \n",
            "4                 Online Financial Fraud                  Fraud CallVishing   \n",
            "\n",
            "                                  crimeaditionalinfo  \n",
            "0  I had continue received random calls and abusi...  \n",
            "1  The above fraudster is continuously messaging ...  \n",
            "2  He is acting like a police and demanding for m...  \n",
            "3  In apna Job I have applied for job interview f...  \n",
            "4  I received a call from lady stating that she w...  \n"
          ]
        }
      ]
    },
    {
      "cell_type": "code",
      "source": [
        "empty_rows = df[df[\"crimeaditionalinfo\"].isna()]"
      ],
      "metadata": {
        "id": "Q82oe7qb8gV_"
      },
      "execution_count": 7,
      "outputs": []
    },
    {
      "cell_type": "code",
      "source": [
        "from sklearn.preprocessing import LabelEncoder"
      ],
      "metadata": {
        "id": "3wPg8PBz8zV9"
      },
      "execution_count": 8,
      "outputs": []
    },
    {
      "cell_type": "code",
      "source": [
        "category_encoder = LabelEncoder()\n",
        "subcategory_encoder = LabelEncoder()"
      ],
      "metadata": {
        "id": "t0JhdKra83z4"
      },
      "execution_count": 9,
      "outputs": []
    },
    {
      "cell_type": "code",
      "source": [
        "df[\"category_label\"] = category_encoder.fit_transform(df[\"category\"])\n",
        "df[\"subcategory_label\"] = subcategory_encoder.fit_transform(df[\"sub_category\"])\n"
      ],
      "metadata": {
        "id": "dhL5WDb988Uk"
      },
      "execution_count": 10,
      "outputs": []
    },
    {
      "cell_type": "code",
      "source": [
        "category_encoder = LabelEncoder()\n",
        "subcategory_encoder = LabelEncoder()"
      ],
      "metadata": {
        "id": "Si-FMgzK9Ofr"
      },
      "execution_count": 11,
      "outputs": []
    },
    {
      "cell_type": "code",
      "source": [
        "df[\"category_label\"] = category_encoder.fit_transform(df[\"category\"])\n",
        "df[\"subcategory_label\"] = subcategory_encoder.fit_transform(df[\"sub_category\"])"
      ],
      "metadata": {
        "id": "JgRM3enF9T5I"
      },
      "execution_count": 12,
      "outputs": []
    },
    {
      "cell_type": "code",
      "source": [
        "import re\n",
        "import nltk\n",
        "from nltk.corpus import stopwords\n",
        "from nltk.tokenize import word_tokenize"
      ],
      "metadata": {
        "id": "7NtlS_e-9kel"
      },
      "execution_count": 15,
      "outputs": []
    },
    {
      "cell_type": "code",
      "source": [
        "nltk.download('stopwords')\n",
        "nltk.download('punkt')"
      ],
      "metadata": {
        "colab": {
          "base_uri": "https://localhost:8080/"
        },
        "id": "9xzRCYvp9muo",
        "outputId": "06e5c8e2-7fa0-4ff9-c209-9e77fc2fe943"
      },
      "execution_count": 16,
      "outputs": [
        {
          "output_type": "stream",
          "name": "stderr",
          "text": [
            "[nltk_data] Downloading package stopwords to /root/nltk_data...\n",
            "[nltk_data]   Package stopwords is already up-to-date!\n",
            "[nltk_data] Downloading package punkt to /root/nltk_data...\n",
            "[nltk_data]   Package punkt is already up-to-date!\n"
          ]
        },
        {
          "output_type": "execute_result",
          "data": {
            "text/plain": [
              "True"
            ]
          },
          "metadata": {},
          "execution_count": 16
        }
      ]
    },
    {
      "source": [
        "import re\n",
        "import nltk\n",
        "from nltk.corpus import stopwords\n",
        "from nltk.tokenize import word_tokenize\n",
        "\n",
        "# Download the necessary NLTK data packages\n",
        "nltk.download('stopwords')\n",
        "nltk.download('punkt')\n",
        "nltk.download('punkt_tab') # This line was added to download the punkt_tab data\n",
        "\n",
        "def preprocess_text(text):\n",
        "    text = text.lower()\n",
        "    text = re.sub(r'\\W', ' ', text)  # Remove special characters\n",
        "    tokens = word_tokenize(text)\n",
        "    tokens = [word for word in tokens if word not in stopwords.words('english')]\n",
        "    return \" \".join(tokens)\n",
        "\n",
        "df[\"cleaned_text\"] = df[\"crimeaditionalinfo\"].apply(preprocess_text)"
      ],
      "cell_type": "code",
      "metadata": {
        "colab": {
          "base_uri": "https://localhost:8080/"
        },
        "id": "xgfqawXl9xZ7",
        "outputId": "5d5524d5-8af9-4928-a218-d67658707e2c"
      },
      "execution_count": 18,
      "outputs": [
        {
          "output_type": "stream",
          "name": "stderr",
          "text": [
            "[nltk_data] Downloading package stopwords to /root/nltk_data...\n",
            "[nltk_data]   Package stopwords is already up-to-date!\n",
            "[nltk_data] Downloading package punkt to /root/nltk_data...\n",
            "[nltk_data]   Package punkt is already up-to-date!\n",
            "[nltk_data] Downloading package punkt_tab to /root/nltk_data...\n",
            "[nltk_data]   Unzipping tokenizers/punkt_tab.zip.\n"
          ]
        }
      ]
    },
    {
      "cell_type": "code",
      "source": [
        "print(df[[\"crimeaditionalinfo\", \"cleaned_text\"]].head())"
      ],
      "metadata": {
        "colab": {
          "base_uri": "https://localhost:8080/"
        },
        "id": "9y53wgrUArS7",
        "outputId": "e53e5b2b-fa0c-4cc3-8020-80917c6bab40"
      },
      "execution_count": 20,
      "outputs": [
        {
          "output_type": "stream",
          "name": "stdout",
          "text": [
            "                                  crimeaditionalinfo  \\\n",
            "0  I had continue received random calls and abusi...   \n",
            "1  The above fraudster is continuously messaging ...   \n",
            "2  He is acting like a police and demanding for m...   \n",
            "3  In apna Job I have applied for job interview f...   \n",
            "4  I received a call from lady stating that she w...   \n",
            "\n",
            "                                        cleaned_text  \n",
            "0  continue received random calls abusive message...  \n",
            "1  fraudster continuously messaging asking pay mo...  \n",
            "2  acting like police demanding money adding sect...  \n",
            "3  apna job applied job interview telecalling res...  \n",
            "4  received call lady stating send new phone vivo...  \n"
          ]
        }
      ]
    },
    {
      "cell_type": "code",
      "source": [
        "# Save processed dataset to a CSV file\n",
        "df[[\"cleaned_text\", \"category_label\", \"subcategory_label\"]].to_csv(\"cleaned_cybercrime_dataset.csv\", index=False)\n",
        "\n",
        "print(\"Cleaned dataset saved successfully!\")\n"
      ],
      "metadata": {
        "colab": {
          "base_uri": "https://localhost:8080/"
        },
        "id": "zuIcvzBjA2_z",
        "outputId": "a983c878-2af9-4292-f4d1-1e2d09bb5370"
      },
      "execution_count": 21,
      "outputs": [
        {
          "output_type": "stream",
          "name": "stdout",
          "text": [
            "Cleaned dataset saved successfully!\n"
          ]
        }
      ]
    }
  ]
}